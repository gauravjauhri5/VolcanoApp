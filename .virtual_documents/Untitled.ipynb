import streamlit as st 
import pandas as pd
import json
import plotly.graph_objects as go
import plotly.express as px
import plotly.io as pio
from copy import deepcopy

@st.cache_data   
def load_data(path):
    df = pd.read_csv(path)
    return df

@st.cache_data   
def load_json(path):
    df = json.load(open(path))
    return df


vol_df = load_data('./volcano_ds_pop.csv')
vol_json = load_json('./countries.geojson')

print(vol_df.head())

print(vol_json.head())



